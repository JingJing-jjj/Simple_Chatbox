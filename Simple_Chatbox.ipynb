{
  "nbformat": 4,
  "nbformat_minor": 0,
  "metadata": {
    "colab": {
      "provenance": []
    },
    "kernelspec": {
      "name": "python3",
      "display_name": "Python 3"
    },
    "language_info": {
      "name": "python"
    }
  },
  "cells": [
    {
      "cell_type": "code",
      "execution_count": null,
      "metadata": {
        "id": "nSWOy7F0n2nZ"
      },
      "outputs": [],
      "source": [
        "!pip install transformers\n",
        "!pip install flask"
      ]
    },
    {
      "cell_type": "code",
      "source": [
        "from transformers import AutoTokenizer, AutoModelForSeq2SeqLM\n",
        "model_name = \"facebook/blenderbot-400M-distill\""
      ],
      "metadata": {
        "id": "4-Q2KZKOoagP"
      },
      "execution_count": null,
      "outputs": []
    },
    {
      "cell_type": "code",
      "source": [
        "# Load model (download on first run and reference local installation for consequent runs)\n",
        "model = AutoModelForSeq2SeqLM.from_pretrained(model_name)\n",
        "tokenizer = AutoTokenizer.from_pretrained(model_name)"
      ],
      "metadata": {
        "id": "mw90DeD_pFvB"
      },
      "execution_count": null,
      "outputs": []
    },
    {
      "cell_type": "code",
      "source": [
        "conversation_history = []\n",
        "history_string = \"\\n\".join(conversation_history)\n",
        "history_string"
      ],
      "metadata": {
        "id": "B9eglgSxpQ6G"
      },
      "execution_count": null,
      "outputs": []
    },
    {
      "cell_type": "code",
      "source": [
        "input_text = \"hello, how are you doing ?\"\n",
        "inputs = tokenizer.encode_plus(history_string, input_text, return_tensors=\"pt\")\n",
        "inputs\n",
        "outputs = model.generate(**inputs)\n",
        "outputs\n",
        "response = tokenizer.decode(outputs[0], skip_special_tokens=True).strip()\n",
        "response\n",
        "conversation_history.append(input_text)\n",
        "conversation_history.append(response)\n",
        "conversation_history"
      ],
      "metadata": {
        "id": "bWqyCV6rtU1U"
      },
      "execution_count": null,
      "outputs": []
    },
    {
      "cell_type": "code",
      "source": [
        "while True:\n",
        "    history_string = \"\\n\".join(conversation_history)\n",
        "\n",
        "    input_text = input(\"> \")\n",
        "    inputs = tokenizer.encode_plus(history_string, input_text, return_tensors=\"pt\")\n",
        "    outputs = model.generate(**inputs)\n",
        "    response = tokenizer.decode(outputs[0], skip_special_tokens=True).strip()\n",
        "\n",
        "    conversation_history.append(input_text)\n",
        "    conversation_history.append(response)\n",
        "    print(\"bot response: \" , response)"
      ],
      "metadata": {
        "id": "AFH2G9IQx_4x"
      },
      "execution_count": null,
      "outputs": []
    }
  ]
}